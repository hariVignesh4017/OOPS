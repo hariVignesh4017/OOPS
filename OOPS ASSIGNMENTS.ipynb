{
 "cells": [
  {
   "cell_type": "markdown",
   "metadata": {},
   "source": [
    "OOPS"
   ]
  },
  {
   "cell_type": "markdown",
   "metadata": {},
   "source": [
    "# 1. What is Object-Oriented Programming (OOP)? \n",
    "Object-Oriented Programming (OOP) is a programming paradigm based on the concept of \"objects,\" which can contain data and behavior. Objects are instances of classes, which act as blueprints defining the structure and behavior of objects. OOP is widely used in software development due to its ability to model complex systems and promote reusable, modular, and maintainable code.\n",
    "\n",
    "some of key concepts are:\n",
    "1. Class\n",
    "2. Object\n",
    "3. Encapsulation\n",
    "4. Inheritance\n",
    "5. Polymorphism\n",
    "6. Abstraction\n"
   ]
  },
  {
   "cell_type": "markdown",
   "metadata": {},
   "source": [
    "# 2. What is a class in OOP?\n",
    "# Answer:\n",
    "In Object-Oriented Programming (OOP), a class is a blueprint or template for creating objects. It defines the structure and behavior (data and methods) that the objects created from the class will have.\n",
    "\n",
    "Key Points about a Class:\n",
    "Structure:\n",
    "\n",
    "A class specifies the attributes (data or variables) and methods (functions) that its objects will have.\n",
    "Attributes represent the properties of an object, while methods represent the actions an object can perform.\n",
    "Instance:\n",
    "\n",
    "An object is an instance of a class. Each object created from a class will have the same structure but can hold unique data.\n",
    "Syntax: In programming, defining a class involves using the class keyword (in many languages like Python, Java, and C++).\n"
   ]
  },
  {
   "cell_type": "markdown",
   "metadata": {},
   "source": [
    "# 3.  What is an object in OOP?\n",
    "# Answer\n",
    "In Object-Oriented Programming (OOP), an object is an instance of a class. It is a real-world entity or a virtual representation that contains data (attributes) and behavior (methods) as defined by the class.\n",
    "Key Points about an Object:\n",
    "Instance of a Class:\n",
    "\n",
    "A class serves as a blueprint, and an object is created based on that blueprint.\n",
    "Example: If a Car class is defined, objects like car1 and car2 can be created from it.\n",
    "State and Behavior:\n",
    "\n",
    "State: Defined by the object's attributes or properties.\n",
    "Behavior: Defined by the object's methods or actions.\n",
    "Identity:\n",
    "\n",
    "Every object has a unique identity that distinguishes it from other objects, even if they belong to the same class."
   ]
  },
  {
   "cell_type": "markdown",
   "metadata": {},
   "source": [
    "# 4. What is the difference between abstraction and encapsulation?\n",
    "# Answer\n",
    "Abstraction and Encapsulation are two fundamental concepts in Object-Oriented Programming (OOP), but they serve different purposes. Here's a detailed comparison:\n",
    "# Abstraction\t\n",
    "Definition:Hides implementation details and shows only essential features.\t\n",
    "Focus:What an object does.\t\n",
    "Implementation: Achieved using abstract classes, interfaces, etc.\t\n",
    "Purpose: Simplifies complexity for the user.\t\n",
    "Level: Design level.\t\n",
    "\n",
    "# Encapsulation\n",
    "Definition: Hides internal state and protects data through access control.\n",
    "Focus: How the object is implemented and accessed securely. \n",
    "Implementation: Achieved using private attributes and public methods.\n",
    "Purpose : Safeguards object data and ensures proper usage. \n",
    "Level: Implementation level.\n"
   ]
  },
  {
   "cell_type": "markdown",
   "metadata": {},
   "source": [
    "# 5. What are dunder methods in Python?\n",
    "# Answer\n",
    "Dunder methods (short for \"double underscore\" methods) in Python are special methods that allow you to define the behavior of objects in certain situations. These methods are also known as magic methods or special methods and are prefixed and suffixed with double underscores (e.g., __init__, __str__, __add__).\n",
    "Dunder methods enable you to customize how objects interact with Python’s built-in operators, functions, and other operations.\n"
   ]
  },
  {
   "cell_type": "markdown",
   "metadata": {},
   "source": [
    "# 6. Explain the concept of inheritance in OOP?\n",
    "# Answer\n",
    "\n",
    "Inheritance is a fundamental concept in Object-Oriented Programming (OOP) that allows one class (called the child class or subclass) to inherit the properties (attributes) and behaviors (methods) of another class (called the parent class or superclass). It enables code reusability, hierarchical relationships, and the ability to extend or customize behavior.\n",
    "\n",
    "Some of concepts are:\n",
    "1. Parent class\n",
    "2. child class\n",
    "3. Reusability\n",
    "4. Method overriding\n",
    "5. hierrachical relationship\n"
   ]
  },
  {
   "cell_type": "markdown",
   "metadata": {},
   "source": [
    "# 7. What is polymorphism in OOP?\n",
    "# Answer\n",
    "Polymorphism is a core concept in Object-Oriented Programming (OOP) that allows objects of different classes to be treated as objects of a common superclass. The polymorphism, meaning \"many shapes\" or \"many forms.\" In essence, polymorphism allows the same operation or method to behave differently based on the object invoking it.\n",
    " Types as \n",
    "1. Method overloading\n",
    "2. Method overriding"
   ]
  },
  {
   "cell_type": "markdown",
   "metadata": {},
   "source": [
    "# 8. How is encapsulation achieved in Python?\n",
    "# Answer:\n",
    "Encapsulation is an Object-Oriented Programming (OOP) concept that restricts access to certain parts of an object to protect its internal state and behavior. It is achieved by bundling"
   ]
  },
  {
   "cell_type": "markdown",
   "metadata": {},
   "source": [
    "# 9.  What is a constructor in Python?\n",
    "# Answer: \n",
    "A constructor in Python is a special method used to initialize an object's attributes when the object is created. It is automatically called when a new instance of a class is instantiated. In Python, the constructor method is named __init__, which stands for \"initialize.\""
   ]
  },
  {
   "cell_type": "markdown",
   "metadata": {},
   "source": [
    "# 10. What are class and static methods in Python?\n",
    "# Answer:\n",
    "Class Methods\n",
    "Definition: A class method is a method that is bound to the class and not the instance of the class. It takes the class itself (cls) as the first argument rather than the instance (self).\n",
    "uses @class method as decorator>\n",
    "#use case\n",
    "To perform operations that affect the class itself (e.g., modifying class-level attributes).\n",
    " \n",
    " Static Methods\n",
    "Definition: A static method is a method that does not take self or cls as its first argument. It neither accesses the instance nor the class. It is a regular function that belongs to a class and is typically used when the functionality is logically related to the class.\n",
    "Uses @staticmethod as decorator\n",
    "#Use Case:\n",
    "To group related utility functions inside a class.\n",
    "When no instance or class-related data is required.\n",
    "\n"
   ]
  },
  {
   "cell_type": "markdown",
   "metadata": {},
   "source": [
    "# 11. What is method overloading in Python?\n",
    "# Answer\n",
    "Method overloading refers to the ability of a method in a class to perform different tasks based on the number or types of arguments passed to it. In many programming languages, such as Java or C++, method overloading is explicitly supported, allowing multiple methods with the same name but different parameters.\n",
    "\n",
    "However, Python does not support method overloading directly like some other languages. Instead, Python achieves similar functionality using default arguments or variable-length arguments in a method."
   ]
  },
  {
   "cell_type": "markdown",
   "metadata": {},
   "source": [
    "# 12.  What is method overriding in OOP?\n",
    "# Answer\n",
    "Method overriding is a feature in object-oriented programming where a subclass provides a specific implementation of a method that is already defined in its parent class.\n",
    "\n",
    "When the method is called on an object of the subclass, the subclass's version of the method is executed, effectively \"overriding\" the method in the parent class."
   ]
  },
  {
   "cell_type": "markdown",
   "metadata": {},
   "source": [
    "# 13.  What is a property decorator in Python?\n",
    "\n",
    "The @property decorator in Python is used to define a method as a getter for an attribute in an object-oriented way. It allows you to access a method as if it were an attribute, providing a more Pythonic and readable way to manage class attributes while still allowing control over their behavior."
   ]
  },
  {
   "cell_type": "markdown",
   "metadata": {},
   "source": [
    "# 14. Why is polymorphism important in OOP?\n",
    "# Answer\n",
    "Code Reusability:\n",
    "\n",
    "Polymorphism allows developers to write flexible and reusable code. Methods in parent classes can be overridden in child classes to provide specific implementations, without changing the parent class's interface.\n",
    "\n",
    "Extensibility:\n",
    "\n",
    "You can extend functionality without modifying existing code. New subclasses can be added, and polymorphism ensures they integrate seamlessly with existing code.\n",
    "\n",
    "Simplified Code:\n",
    "\n",
    "Using polymorphism reduces the need for complex if-else or switch-case constructs. You can invoke the same method name, and the appropriate behavior is executed based on the object's type.\n",
    "\n",
    "Improves Maintainability:\n",
    "\n",
    "Polymorphic code is easier to maintain because the logic for different object behaviors is encapsulated within the respective classes, adhering to the Single Responsibility Principle.\n",
    "\n",
    "Supports Dynamic Method Binding:\n",
    "\n",
    "Polymorphism relies on dynamic method binding (or late binding), where the method to be invoked is determined at runtime. This provides flexibility in program execution.\n",
    "\n",
    "Facilitates Interface Design:\n",
    "\n",
    "Polymorphism is the foundation for designing flexible and extensible interfaces or abstract classes. It allows multiple classes to share a common interface while providing their own implementations."
   ]
  },
  {
   "cell_type": "markdown",
   "metadata": {},
   "source": [
    "# 15. What is an abstract class in Python?\n",
    "# Answer\n",
    "An abstract class in Python is a class that cannot be instantiated directly and serves as a blueprint for other classes. Abstract classes typically define one or more abstract methods that must be implemented by any subclass.\n",
    "\n",
    "Abstract classes are used to enforce a common interface or structure for subclasses while delegating specific implementations to the subclasses. This is a key concept in achieving abstraction in object-oriented programming (OOP)."
   ]
  },
  {
   "cell_type": "markdown",
   "metadata": {},
   "source": [
    "# 16. What are the advantages of OOP?\n",
    "# Answer:\n",
    "Advantages of OOP\n",
    "Reusability: Classes and objects can be reused across different parts of the application.\n",
    "Modularity: Code is organized into smaller, manageable chunks.\n",
    "Scalability: Easier to extend and maintain as the system grows.\n",
    "Improved Collaboration: Clear separation of concerns facilitates team development."
   ]
  },
  {
   "cell_type": "markdown",
   "metadata": {},
   "source": [
    "# 17.  What is multiple inheritance in Python?\n",
    "# Answer\n",
    "Multiple inheritance is a feature in object-oriented programming where a class can inherit from more than one parent class. In Python, this means a subclass can inherit attributes and methods from multiple base classes."
   ]
  },
  {
   "cell_type": "markdown",
   "metadata": {},
   "source": [
    "# 18.  What is the difference between a class variable and an instance variable?\n",
    "# Answer\n",
    "# A class variable is shared among all instances of a class. It is defined directly within the class and outside any methods.\n",
    "\n",
    "Scope: Belongs to the class itself and is shared by all instances of the class.\n",
    "Shared Data: Changing the value of a class variable affects all instances of the class, as it is shared.\n",
    "Usage: Often used to store data that is common across all instances.\n",
    "\n",
    "# An instance variable is unique to each instance of a class. It is defined inside methods (usually __init__) and is prefixed with self.\n",
    "\n",
    "Scope: Belongs to a specific object (instance) of the class.\n",
    "Unique Data: Changing the value of an instance variable affects only that particular instance.\n",
    "Usage: Used to store data specific to an instance.\n",
    "\n"
   ]
  },
  {
   "cell_type": "markdown",
   "metadata": {},
   "source": [
    "# 19.  Explain the purpose of ‘’__str__’ and ‘__repr__’ ‘ methods in Python?\n",
    "# Answer\n",
    "In Python, the __str__ and __repr__ methods are special (or magic/dunder) methods that define how objects of a class are represented as strings. They are particularly useful when debugging or working with user-friendly output.\n",
    "\n",
    "__str__ Method\n",
    "The __str__ method is used to define a user-friendly, readable string representation of an object. It is typically called by functions like str() and when printing an object (e.g., using the print() function).\n",
    "\n",
    "__repr__ Method\n",
    "The __repr__ method is used to define an unambiguous string representation of an object. It is primarily intended for developers and debugging purposes.\n",
    "\n"
   ]
  },
  {
   "cell_type": "markdown",
   "metadata": {},
   "source": [
    "# 20.  What is the significance of the ‘super()’ function in Python?\n",
    "# Answer\n",
    "The super() function in Python is used to give access to methods and properties of a parent (or superclass). It is commonly used in the context of inheritance, especially in object-oriented programming (OOP), to call a parent class’s methods or constructor from a child class."
   ]
  },
  {
   "cell_type": "markdown",
   "metadata": {},
   "source": [
    "# 21.  What is the significance of the __del__ method in Python?\n",
    "# Answer\n",
    "\n",
    "The __del__ method in Python is a destructor method that is automatically called when an object is about to be destroyed or garbage collected. It is used for cleaning up resources or performing any necessary finalization before the object is removed from memory."
   ]
  },
  {
   "cell_type": "markdown",
   "metadata": {},
   "source": [
    "# 22. What is the difference between @staticmethod and @classmethod in Python?\n",
    "# Answer\n",
    "Both @staticmethod and @classmethod are decorators used to define methods that are not bound to an instance of the class, but they have some key differences in terms of how they interact with the class and instance\n",
    "Class Methods\n",
    "Definition: A class method is a method that is bound to the class and not the instance of the class. It takes the class itself (cls) as the first argument rather than the instance (self).\n",
    "uses @class method as decorator>\n",
    "#use case\n",
    "To perform operations that affect the class itself (e.g., modifying class-level attributes).\n",
    " \n",
    " Static Methods\n",
    "Definition: A static method is a method that does not take self or cls as its first argument. It neither accesses the instance nor the class. It is a regular function that belongs to a class and is typically used when the functionality is logically related to the class.\n",
    "Uses @staticmethod as decorator\n",
    "#Use Case:\n",
    "To group related utility functions inside a class.\n",
    "When no instance or class-related data is required.\n"
   ]
  },
  {
   "cell_type": "markdown",
   "metadata": {},
   "source": [
    "# 23.  How does polymorphism work in Python with inheritance?\n",
    "# Answer\n",
    "Polymorphism works in the way as  :\n",
    "\n",
    "Method Overriding: A child class can override methods of the parent class, which is a key mechanism for achieving polymorphism in Python.\n",
    "\n",
    "Dynamic Method Resolution: The method that gets called is determined at runtime, which is why polymorphism is sometimes referred to as \"dynamic dispatch\" or \"late binding.\""
   ]
  },
  {
   "cell_type": "markdown",
   "metadata": {},
   "source": [
    "# 24. What is method chaining in Python OOP?\n",
    "# Answer\n",
    "Method chaining is a programming technique in object-oriented programming (OOP) where multiple methods are called on the same object in a single line of code. This is possible because each method returns the object itself (or another object), allowing subsequent methods to be called on that same object without needing to reference it again.\n",
    "\n",
    "In Python, method chaining is commonly used to perform a series of operations on an object in a fluent, readable way."
   ]
  },
  {
   "cell_type": "markdown",
   "metadata": {},
   "source": [
    "# 25.  What is the purpose of the __call__ method in Python?\n",
    "# Answer\n",
    "The __call__ method in Python is a special method that allows an instance of a class to be called like a function. This means that if you define a __call__ method in a class, objects of that class can be invoked directly using parentheses () as if they were functions.\n",
    "\n",
    "In essence, the __call__ method allows objects to be callable, making them behave like functions. This is often used in scenarios where you want objects to encapsulate behavior and can be \"called\" to perform some operation."
   ]
  },
  {
   "cell_type": "markdown",
   "metadata": {},
   "source": [
    "PRACTICAL QUESTIONS:"
   ]
  },
  {
   "cell_type": "code",
   "execution_count": 5,
   "metadata": {},
   "outputs": [
    {
     "name": "stdout",
     "output_type": "stream",
     "text": [
      "The animal makes a sound.\n",
      "Bark!\n"
     ]
    }
   ],
   "source": [
    "# 1. Create a parent class Animal with a method speak() that prints a generic message. Create a child class Dog that overrides the speak() method to print \"Bark!\" ?\n",
    "class Animal:\n",
    "    def speak(self):\n",
    "        print(\"The animal makes a sound.\")\n",
    "\n",
    "class Dog(Animal):\n",
    "    def speak(self):\n",
    "        print(\"Bark!\")\n",
    "\n",
    "# Example usage:\n",
    "generic_animal = Animal()\n",
    "generic_animal.speak()  # Output: The animal makes a sound.\n",
    "\n",
    "dog = Dog()\n",
    "dog.speak()  # Output: Bark!"
   ]
  },
  {
   "cell_type": "code",
   "execution_count": 6,
   "metadata": {},
   "outputs": [
    {
     "name": "stdout",
     "output_type": "stream",
     "text": [
      "Area of the circle: 78.53981633974483\n",
      "Area of the rectangle: 24\n"
     ]
    }
   ],
   "source": [
    "#2. Write a program to create an abstract class Shape with a method area(). Derive classes Circle and Rectangle from it and implement the area() method in both.\n",
    "\n",
    "#Answer\n",
    "from abc import ABC, abstractmethod\n",
    "import math\n",
    "\n",
    "class Shape(ABC):\n",
    "    @abstractmethod\n",
    "    def area(self):\n",
    "        pass\n",
    "\n",
    "class Circle(Shape):\n",
    "    def __init__(self, radius):\n",
    "        self.radius = radius\n",
    "\n",
    "    def area(self):\n",
    "        return math.pi * (self.radius ** 2)\n",
    "\n",
    "class Rectangle(Shape):\n",
    "    def __init__(self, length, width):\n",
    "        self.length = length\n",
    "        self.width = width\n",
    "\n",
    "    def area(self):\n",
    "        return self.length * self.width\n",
    "\n",
    "# Example usage:\n",
    "circle = Circle(5)\n",
    "print(f\"Area of the circle: {circle.area()}\")  # Output: Area of the circle: 78.53981633974483\n",
    "\n",
    "rectangle = Rectangle(4, 6)\n",
    "print(f\"Area of the rectangle: {rectangle.area()}\")  # Output: Area of the rectangle: 24\n"
   ]
  },
  {
   "cell_type": "code",
   "execution_count": 8,
   "metadata": {},
   "outputs": [
    {
     "name": "stdout",
     "output_type": "stream",
     "text": [
      "This is a Car.\n",
      "This car is a Tesla Model S.\n",
      "This electric car has a 100-kWh battery.\n"
     ]
    }
   ],
   "source": [
    "#3. Implement a multi-level inheritance scenario where a class Vehicle has an attribute type. Derive a class Car and further derive a class ElectricCar that adds a battery attribute.\n",
    "#Answer\n",
    "class Vehicle:\n",
    "    def __init__(self, vehicle_type):\n",
    "        self.vehicle_type = vehicle_type\n",
    "    def info(self):\n",
    "        print(f\"This is a {self.vehicle_type}.\")\n",
    "class Car(Vehicle):\n",
    "    def __init__(self, make, model):\n",
    "        super().__init__('Car')\n",
    "        self.make = make\n",
    "        self.model = model\n",
    "    def car_info(self):\n",
    "        print(f\"This car is a {self.make} {self.model}.\")\n",
    "class ElectricCar(Car):\n",
    "    def __init__(self, make, model, battery_capacity):\n",
    "        super().__init__(make, model)\n",
    "        self.battery_capacity = battery_capacity\n",
    "    def battery_info(self):\n",
    "        print(f\"This electric car has a {self.battery_capacity}-kWh battery.\")\n",
    "# Example usage:\n",
    "my_tesla = ElectricCar('Tesla', 'Model S', 100)\n",
    "my_tesla.info()           # From Vehicle class\n",
    "my_tesla.car_info()       # From Car class\n",
    "my_tesla.battery_info()   # From ElectricCar class"
   ]
  },
  {
   "cell_type": "code",
   "execution_count": null,
   "metadata": {},
   "outputs": [],
   "source": [
    "#4. Implement a multi-level inheritance scenario where a class Vehicle has an attribute type. Derive a class Car and further derive a class ElectricCar that adds a battery attribute.\n",
    "#Answer\n",
    "repeated as no question 4."
   ]
  },
  {
   "cell_type": "code",
   "execution_count": 6,
   "metadata": {},
   "outputs": [
    {
     "name": "stdout",
     "output_type": "stream",
     "text": [
      "Deposited: $500. New Balance: $1500\n",
      "Withdrawn: $300. New Balance: $1200\n",
      "Current Balance: $1200\n"
     ]
    }
   ],
   "source": [
    "# 5. Write a program to demonstrate encapsulation by creating a class BankAccount with private attributes balance and methods to deposit, withdraw, and check balance.\n",
    "#Answer\n",
    "class BankAccount:\n",
    "    def __init__(self, initial_balance=0):\n",
    "        self.__balance = initial_balance\n",
    "    \n",
    "    def deposit(self, amount):\n",
    "        if amount > 0:\n",
    "            self.__balance += amount\n",
    "            return f\"Deposited: ${amount}. New Balance: ${self.__balance}\"\n",
    "        return \"Deposit amount must be positive.\"\n",
    "    \n",
    "    def withdraw(self, amount):\n",
    "        if 0 < amount <= self.__balance:\n",
    "            self.__balance -= amount\n",
    "            return f\"Withdrawn: ${amount}. New Balance: ${self.__balance}\"\n",
    "        return \"Insufficient funds or invalid amount.\"\n",
    "    \n",
    "    def get_balance(self):\n",
    "        return f\"Current Balance: ${self.__balance}\"\n",
    "\n",
    "# Example usage\n",
    "account = BankAccount(1000)\n",
    "print(account.deposit(500))\n",
    "print(account.withdraw(300))\n",
    "print(account.get_balance())\n",
    "\n"
   ]
  },
  {
   "cell_type": "code",
   "execution_count": 12,
   "metadata": {},
   "outputs": [
    {
     "name": "stdout",
     "output_type": "stream",
     "text": [
      "Strumming the guitar.\n",
      "Playing the piano.\n"
     ]
    }
   ],
   "source": [
    "# 6. Demonstrate runtime polymorphism using a method play() in a base class Instrument. Derive classes Guitar and Piano that implement their own version of play().\n",
    "#Answer\n",
    "class Instrument:\n",
    "    def play(self):\n",
    "        raise NotImplementedError(\"Subclasses should implement this method.\")\n",
    "\n",
    "class Guitar(Instrument):\n",
    "    def play(self):\n",
    "        print(\"Strumming the guitar.\")\n",
    "\n",
    "class Piano(Instrument):\n",
    "    def play(self):\n",
    "        print(\"Playing the piano.\")\n",
    "\n",
    "# Function to demonstrate polymorphism\n",
    "def play_instrument(instrument):\n",
    "    instrument.play()\n",
    "\n",
    "# Example usage:\n",
    "instruments = [Guitar(), Piano()]\n",
    "\n",
    "for instrument in instruments:\n",
    "    play_instrument(instrument)"
   ]
  },
  {
   "cell_type": "code",
   "execution_count": 14,
   "metadata": {},
   "outputs": [
    {
     "name": "stdout",
     "output_type": "stream",
     "text": [
      "Addition Result: 8\n",
      "Subtraction Result: 6\n"
     ]
    }
   ],
   "source": [
    "#7. Create a class MathOperations with a class method add_numbers() to add two numbers and a static method subtract_numbers() to subtract two numbers.\n",
    "#Answer.\n",
    "class MathOperations:\n",
    "    @classmethod\n",
    "    def add_numbers(cls, a, b):\n",
    "        return a + b\n",
    "\n",
    "    @staticmethod\n",
    "    def subtract_numbers(a, b):\n",
    "        return a - b\n",
    "\n",
    "# Example usage:\n",
    "result_add = MathOperations.add_numbers(5, 3)\n",
    "print(f\"Addition Result: {result_add}\")  # Output: Addition Result: 8\n",
    "\n",
    "result_subtract = MathOperations.subtract_numbers(10, 4)\n",
    "print(f\"Subtraction Result: {result_subtract}\")\n"
   ]
  },
  {
   "cell_type": "code",
   "execution_count": 17,
   "metadata": {},
   "outputs": [
    {
     "name": "stdout",
     "output_type": "stream",
     "text": [
      "Total number of persons created: 3\n"
     ]
    }
   ],
   "source": [
    "#8. Implement a class Person with a class method to count the total number of persons created ?\n",
    "#Answer:\n",
    "class Person:\n",
    "    # Class variable to keep track of the number of instances\n",
    "    _instance_count = 0\n",
    "\n",
    "    def __init__(self, name):\n",
    "        self.name = name\n",
    "        Person._instance_count += 1  # Increment the count when a new instance is created\n",
    "\n",
    "    @classmethod\n",
    "    def get_instance_count(cls):\n",
    "        \"\"\"Class method to return the current instance count.\"\"\"\n",
    "        return cls._instance_count\n",
    "\n",
    "# Example usage:\n",
    "person1 = Person(\"Hari\")\n",
    "person2 = Person(\"Vignesh\")\n",
    "person3 = Person(\"Kevin\")\n",
    "\n",
    "print(f\"Total number of persons created: {Person.get_instance_count()}\")"
   ]
  },
  {
   "cell_type": "code",
   "execution_count": 8,
   "metadata": {},
   "outputs": [
    {
     "name": "stdout",
     "output_type": "stream",
     "text": [
      "3/4\n"
     ]
    }
   ],
   "source": [
    "#9. Write a class Fraction with attributes numerator and denominator. Override the str method to display the fraction as \"numerator/denominator\".\n",
    "#Answer\n",
    "class Fraction:\n",
    "    def __init__(self, numerator, denominator):\n",
    "        if denominator == 0:\n",
    "            raise ValueError(\"Denominator cannot be zero.\")\n",
    "        self.numerator = numerator\n",
    "        self.denominator = denominator\n",
    "    \n",
    "    def __str__(self):\n",
    "        return f\"{self.numerator}/{self.denominator}\"\n",
    "\n",
    "# Example usage\n",
    "fraction = Fraction(3, 4)\n",
    "print(fraction)  # Output: 3/4\n"
   ]
  },
  {
   "cell_type": "code",
   "execution_count": 22,
   "metadata": {},
   "outputs": [],
   "source": [
    "#10. Demonstrate operator overloading by creating a class Vector and overriding the add method to add two vectors.\n",
    "#Answer\n",
    "class Vector:\n",
    "    def __init__(self, x, y):\n",
    "        self.x = x\n",
    "        self.y = y\n",
    "\n",
    "    def __add__(self, other):\n",
    "        if isinstance(other, Vector):\n",
    "            return Vector(self.x + other.x, self.y + other.y)\n",
    "        return NotImplemented\n",
    "\n",
    "    def __repr__(self):\n",
    "        return f\"Vector({self.x}, {self.y})\"\n"
   ]
  },
  {
   "cell_type": "code",
   "execution_count": 30,
   "metadata": {},
   "outputs": [
    {
     "name": "stdout",
     "output_type": "stream",
     "text": [
      "Vector(6, 8)\n"
     ]
    }
   ],
   "source": [
    "v1 = Vector(2, 3)\n",
    "v2 = Vector(4, 5)\n",
    "v3 = v1 + v2\n",
    "\n",
    "print(v3)"
   ]
  },
  {
   "cell_type": "code",
   "execution_count": 23,
   "metadata": {},
   "outputs": [],
   "source": [
    "#11. Create a class Person with attributes name and age. Add a method greet() that prints \"Hello, my name is {name} and I am {age} years old.\"\n",
    "#Answer\n",
    "class Person:\n",
    "    def __init__(self, name, age):\n",
    "        self.name = name\n",
    "        self.age = age\n",
    "\n",
    "    def greet(self):\n",
    "        print(f\"Hello, my name is {self.name} and I am {self.age} years old.\")\n"
   ]
  },
  {
   "cell_type": "code",
   "execution_count": 29,
   "metadata": {},
   "outputs": [
    {
     "name": "stdout",
     "output_type": "stream",
     "text": [
      "Hello, my name is Hari and I am 30 years old.\n"
     ]
    }
   ],
   "source": [
    "person1 = Person(\"Hari\", 30)\n",
    "person1.greet()  "
   ]
  },
  {
   "cell_type": "code",
   "execution_count": 25,
   "metadata": {},
   "outputs": [],
   "source": [
    "#12. Implement a class Student with attributes name and grades. Create a method average_grade() to compute the average of the grades.\n",
    "#Answer\n",
    "class Student:\n",
    "    def __init__(self, name, grades):\n",
    "        self.name = name\n",
    "        self.grades = grades\n",
    "\n",
    "    def average_grade(self):\n",
    "        if not self.grades:\n",
    "            return 0\n",
    "        return sum(self.grades) / len(self.grades)\n"
   ]
  },
  {
   "cell_type": "code",
   "execution_count": 27,
   "metadata": {},
   "outputs": [
    {
     "name": "stdout",
     "output_type": "stream",
     "text": [
      "Hari's average grade is 86.60\n"
     ]
    }
   ],
   "source": [
    "student = Student(\"Hari\", [85, 90, 78, 92, 88])\n",
    "print(f\"{student.name}'s average grade is {student.average_grade():.2f}\")"
   ]
  },
  {
   "cell_type": "code",
   "execution_count": 33,
   "metadata": {},
   "outputs": [
    {
     "name": "stdout",
     "output_type": "stream",
     "text": [
      "The area of the rectangle is 15 square units.\n"
     ]
    }
   ],
   "source": [
    "#13. Create a class Rectangle with methods set_dimensions() to set the dimensions and area() to calculate the area.\n",
    "#Answer\n",
    "class Rectangle:\n",
    "    def __init__(self, length=1, width=1):\n",
    "        self.set_dimensions(length, width)\n",
    "\n",
    "    def set_dimensions(self, length, width):\n",
    "        \"\"\"Sets the dimensions of the rectangle.\"\"\"\n",
    "        if length <= 0 or width <= 0:\n",
    "            raise ValueError(\"Length and width must be positive numbers.\")\n",
    "        self.length = length\n",
    "        self.width = width\n",
    "\n",
    "    def area(self):\n",
    "        \"\"\"Calculates and returns the area of the rectangle.\"\"\"\n",
    "        return self.length * self.width\n",
    "rect = Rectangle()\n",
    "\n",
    "# Set new dimensions\n",
    "rect.set_dimensions(5, 3)\n",
    "\n",
    "# Calculate and print the area\n",
    "print(f\"The area of the rectangle is {rect.area()} square units.\")"
   ]
  },
  {
   "cell_type": "code",
   "execution_count": 38,
   "metadata": {},
   "outputs": [
    {
     "name": "stdout",
     "output_type": "stream",
     "text": [
      "Alice's salary is $4000.\n",
      "Hari's salary is $5300.\n"
     ]
    }
   ],
   "source": [
    "#14. Create a class Employee with a method calculate_salary() that computes the salary based on hours worked and hourly rate. Create a derived class Manager that adds a bonus to the salary.\n",
    "#Answer\n",
    "class Manager(Employee):\n",
    "    def __init__(self, name, hours_worked, hourly_rate, bonus):\n",
    "        super().__init__(name, hours_worked, hourly_rate)\n",
    "        self.bonus = bonus\n",
    "\n",
    "    def calculate_salary(self):\n",
    "        \"\"\"Calculates and returns the salary including the bonus.\"\"\"\n",
    "        base_salary = super().calculate_salary()\n",
    "        return base_salary + self.bonus\n",
    "    employee = Employee(\"Hari\", 160, 25)\n",
    "print(f\"{employee.name}'s salary is ${employee.calculate_salary()}.\")\n",
    "\n",
    "# Create a Manager instance\n",
    "manager = Manager(\"Hari\", 160, 30, 500)\n",
    "print(f\"{manager.name}'s salary is ${manager.calculate_salary()}.\")\n"
   ]
  },
  {
   "cell_type": "code",
   "execution_count": 1,
   "metadata": {},
   "outputs": [
    {
     "name": "stdout",
     "output_type": "stream",
     "text": [
      "Total price of Laptop: $3000\n"
     ]
    }
   ],
   "source": [
    "# 15. Create a class Product with attributes name, price, and quantity. Implement a method total_price() that calculates the total price of the product.\n",
    "#Answer\n",
    "class Product:\n",
    "    def __init__(self, name, price, quantity):\n",
    "        self.name = name\n",
    "        self.price = price\n",
    "        self.quantity = quantity\n",
    "    \n",
    "    def total_price(self):\n",
    "        return self.price * self.quantity\n",
    "\n",
    "# Example usage\n",
    "product = Product(\"Laptop\", 1000, 3)\n",
    "print(f\"Total price of {product.name}: ${product.total_price()}\")"
   ]
  },
  {
   "cell_type": "code",
   "execution_count": 2,
   "metadata": {},
   "outputs": [
    {
     "name": "stdout",
     "output_type": "stream",
     "text": [
      "Cow sound: Moo\n",
      "Sheep sound: Baa\n"
     ]
    }
   ],
   "source": [
    "#16. Create a class Animal with an abstract method sound(). Create two derived classes Cow and Sheep that implement the sound() method.\n",
    "#Answer\n",
    "from abc import ABC, abstractmethod\n",
    "\n",
    "class Animal(ABC):\n",
    "    @abstractmethod\n",
    "    def sound(self):\n",
    "        pass\n",
    "\n",
    "class Cow(Animal):\n",
    "    def sound(self):\n",
    "        return \"Moo\"\n",
    "\n",
    "class Sheep(Animal):\n",
    "    def sound(self):\n",
    "        return \"Baa\"\n",
    "\n",
    "# Example usage\n",
    "cow = Cow()\n",
    "sheep = Sheep()\n",
    "print(f\"Cow sound: {cow.sound()}\")\n",
    "print(f\"Sheep sound: {sheep.sound()}\")\n"
   ]
  },
  {
   "cell_type": "code",
   "execution_count": 3,
   "metadata": {},
   "outputs": [
    {
     "name": "stdout",
     "output_type": "stream",
     "text": [
      "1984 by George Orwell, published in 1949.\n"
     ]
    }
   ],
   "source": [
    "#17. Create a class Book with attributes title, author, and year_published. Add a method get_book_info() that returns a formatted string with the book's details.\n",
    "#Answer\n",
    "class Book:\n",
    "    def __init__(self, title, author, year_published):\n",
    "        self.title = title\n",
    "        self.author = author\n",
    "        self.year_published = year_published\n",
    "    \n",
    "    def get_book_info(self):\n",
    "        return f\"{self.title} by {self.author}, published in {self.year_published}.\"\n",
    "\n",
    "# Example usage\n",
    "book = Book(\"1984\", \"George Orwell\", 1949)\n",
    "print(book.get_book_info())\n"
   ]
  },
  {
   "cell_type": "code",
   "execution_count": 4,
   "metadata": {},
   "outputs": [
    {
     "name": "stdout",
     "output_type": "stream",
     "text": [
      "Address: 123 Main St, Price: $250000\n",
      "Address: 456 Luxury Ln, Price: $5000000, Rooms: 10\n"
     ]
    }
   ],
   "source": [
    "#18. Create a class House with attributes address and price. Create a derived class Mansion that adds an attribute number_of_rooms\n",
    "#Answer\n",
    "class House:\n",
    "    def __init__(self, address, price):\n",
    "        self.address = address\n",
    "        self.price = price\n",
    "    \n",
    "    def get_details(self):\n",
    "        return f\"Address: {self.address}, Price: ${self.price}\"\n",
    "\n",
    "class Mansion(House):\n",
    "    def __init__(self, address, price, number_of_rooms):\n",
    "        super().__init__(address, price)\n",
    "        self.number_of_rooms = number_of_rooms\n",
    "    \n",
    "    def get_details(self):\n",
    "        return f\"Address: {self.address}, Price: ${self.price}, Rooms: {self.number_of_rooms}\"\n",
    "\n",
    "# Example usage\n",
    "house = House(\"123 Main St\", 250000)\n",
    "mansion = Mansion(\"456 Luxury Ln\", 5000000, 10)\n",
    "\n",
    "print(house.get_details())\n",
    "print(mansion.get_details())\n"
   ]
  },
  {
   "cell_type": "code",
   "execution_count": null,
   "metadata": {},
   "outputs": [],
   "source": []
  },
  {
   "cell_type": "code",
   "execution_count": null,
   "metadata": {},
   "outputs": [],
   "source": []
  },
  {
   "cell_type": "code",
   "execution_count": null,
   "metadata": {},
   "outputs": [],
   "source": []
  }
 ],
 "metadata": {
  "kernelspec": {
   "display_name": "Python 3",
   "language": "python",
   "name": "python3"
  },
  "language_info": {
   "codemirror_mode": {
    "name": "ipython",
    "version": 3
   },
   "file_extension": ".py",
   "mimetype": "text/x-python",
   "name": "python",
   "nbconvert_exporter": "python",
   "pygments_lexer": "ipython3",
   "version": "3.13.1"
  }
 },
 "nbformat": 4,
 "nbformat_minor": 2
}
